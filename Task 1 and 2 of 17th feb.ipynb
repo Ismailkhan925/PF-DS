{
 "cells": [
  {
   "cell_type": "markdown",
   "id": "dcf21952",
   "metadata": {},
   "source": [
    "# Task 1"
   ]
  },
  {
   "cell_type": "code",
   "execution_count": 33,
   "id": "e3ab1bf2",
   "metadata": {},
   "outputs": [
    {
     "name": "stdout",
     "output_type": "stream",
     "text": [
      "enter integers you want to add in list 4\n",
      "now enter elements 8\n",
      "now enter elements 7\n",
      "now enter elements 6\n",
      "now enter elements 4\n",
      "[8, 7, 6, 4]\n",
      "here is previously sorted list  [4, 6, 7, 8]\n",
      "now enter an integer you want to add in the list 5\n",
      "now list [4, 5, 6, 7, 8]\n"
     ]
    }
   ],
   "source": [
    "siz_list=int(input(\"enter integers you want to add in list \"))\n",
    "intlist=[]\n",
    "\n",
    "for i in range(0,siz_list):\n",
    " intlist.append(int(input(\"now enter elements \")))\n",
    "print(intlist)\n",
    "\n",
    "intlist.sort()\n",
    "\n",
    "print(\"here is previously sorted list \" , intlist)\n",
    "temp=int(input(\"now enter an integer you want to add in the list \"))\n",
    "\n",
    "siz_list=len(intlist)\n",
    "i=0\n",
    "while i < siz_list and  temp > intlist[i]:\n",
    "        i += 1\n",
    "intlist.insert(i,temp)\n",
    "print(\"now list\" , intlist)\n"
   ]
  },
  {
   "cell_type": "markdown",
   "id": "6f637e23",
   "metadata": {},
   "source": [
    "# Task 2"
   ]
  },
  {
   "cell_type": "code",
   "execution_count": 34,
   "id": "572b7374",
   "metadata": {},
   "outputs": [],
   "source": [
    "import queue"
   ]
  },
  {
   "cell_type": "code",
   "execution_count": 41,
   "id": "ff4e1c3c",
   "metadata": {},
   "outputs": [
    {
     "name": "stdout",
     "output_type": "stream",
     "text": [
      "how many elements you want to enter in a queue 4\n",
      "is the queue empty :  True\n",
      "enter element and press enter for adding next element 8\n",
      "enter element and press enter for adding next element 9\n",
      "enter element and press enter for adding next element 6\n",
      "enter element and press enter for adding next element 4\n",
      "is the queue full :  True\n",
      "elements dequed :  4\n",
      "elements dequed :  6\n",
      "elements dequed :  9\n",
      "elements dequed :  8\n"
     ]
    }
   ],
   "source": [
    "n=int(input(\"how many elements you want to enter in a queue \"))\n",
    "lifoq = queue.LifoQueue (maxsize=n)\n",
    "#print(lifoq.qsize())\n",
    "print(\"is the queue empty : \", lifoq.empty())\n",
    "for i in range(0,n):     \n",
    "    lifoq.put(int(input(\"enter element and press enter for adding next element \")))\n",
    "print(\"is the queue full : \" , lifoq.full())\n",
    "\n",
    "for i in range(0,n):     \n",
    "    print(\"elements dequed : \" , lifoq.get())\n"
   ]
  },
  {
   "cell_type": "code",
   "execution_count": null,
   "id": "d68a96a1",
   "metadata": {},
   "outputs": [],
   "source": []
  }
 ],
 "metadata": {
  "kernelspec": {
   "display_name": "Python 3 (ipykernel)",
   "language": "python",
   "name": "python3"
  },
  "language_info": {
   "codemirror_mode": {
    "name": "ipython",
    "version": 3
   },
   "file_extension": ".py",
   "mimetype": "text/x-python",
   "name": "python",
   "nbconvert_exporter": "python",
   "pygments_lexer": "ipython3",
   "version": "3.9.7"
  }
 },
 "nbformat": 4,
 "nbformat_minor": 5
}
