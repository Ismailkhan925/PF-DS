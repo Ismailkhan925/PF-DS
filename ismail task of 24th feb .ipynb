{
 "cells": [
  {
   "cell_type": "markdown",
   "id": "8bec8788",
   "metadata": {},
   "source": [
    "\n",
    "# Task 1"
   ]
  },
  {
   "cell_type": "code",
   "execution_count": 12,
   "id": "aef24ecc",
   "metadata": {},
   "outputs": [
    {
     "name": "stdout",
     "output_type": "stream",
     "text": [
      "plz enter key 1\n",
      "plz enter value to that key 10\n",
      "plz enter key 2\n",
      "plz enter value to that key 22\n",
      "plz enter key 2\n",
      "plz enter key again as previous is already in list 3\n",
      "plz enter its value to that key 30\n",
      "plz enter key 4a\n",
      "plz enter value to that key alpha\n",
      "plz enter key 4a\n",
      "plz enter key again as previous is already in list 5\n",
      "plz enter its value to that key 50\n",
      "plz enter key 6\n",
      "plz enter value to that key 60\n",
      "plz enter key 7\n",
      "plz enter value to that key 70\n",
      "plz enter key 8\n",
      "plz enter value to that key 80\n",
      "plz enter key 9\n",
      "plz enter value to that key 90\n",
      "plz enter key 10\n",
      "plz enter value to that key complete\n",
      "{'1': '10', '2': '22', '3': '30', '4a': 'alpha', '5': '50', '6': '60', '7': '70', '8': '80', '9': '90', '10': 'complete'}\n"
     ]
    }
   ],
   "source": [
    "dictionary={}\n",
    "\n",
    "for i in range(0,10):\n",
    "    key=input(\"plz enter key \")\n",
    "    iskey=key in dictionary\n",
    "    if (iskey==True):  \n",
    "        key=input(\"plz enter key again as previous is already in list \")\n",
    "        value=input(\"plz enter its value to that key \")\n",
    "    else:\n",
    "        value=input(\"plz enter value to that key \")\n",
    "    dictionary[key]=value\n",
    "print(dictionary)\n",
    "    "
   ]
  },
  {
   "cell_type": "markdown",
   "id": "1f5129b0",
   "metadata": {},
   "source": [
    "# Task 2"
   ]
  },
  {
   "cell_type": "code",
   "execution_count": 32,
   "id": "1d10aaa2",
   "metadata": {},
   "outputs": [
    {
     "name": "stdout",
     "output_type": "stream",
     "text": [
      "enter value for the list 12\n",
      "['12']\n",
      "if you want to enter value in list press 1, if no value to add press 2 1\n",
      "enter value for the list 23\n",
      "['12', '23']\n",
      "if you want to enter value in list press 1, if no value to add press 2 1\n",
      "enter value for the list 33\n",
      "['12', '23', '33']\n",
      "if you want to enter value in list press 1, if no value to add press 2 1\n",
      "enter value for the list 44\n",
      "['12', '23', '33', '44']\n",
      "if you want to enter value in list press 1, if no value to add press 2 1\n",
      "enter value for the list 55\n",
      "['12', '23', '33', '44', '55']\n",
      "if you want to enter value in list press 1, if no value to add press 2 1\n",
      "enter value for the list 66\n",
      "['66', '12', '23', '33', '44']\n",
      "if you want to enter value in list press 1, if no value to add press 2 2\n",
      "final list:  ['66', '12', '23', '33', '44']\n"
     ]
    }
   ],
   "source": [
    "list_fix=[]\n",
    "chk=0\n",
    "def fun():\n",
    "    value=input(\"enter value for the list \")\n",
    "    n=len(list_fix)\n",
    "    if n<5:\n",
    "        list_fix.append(value)\n",
    "        n=len(list_fix)\n",
    "    else:\n",
    "        list_fix.pop(4)\n",
    "        list_fix.insert(0,value)\n",
    "    print(list_fix)\n",
    "        \n",
    "\n",
    "\n",
    "while int(chk)<2:\n",
    "    fun()\n",
    "    chk=input(\"if you want to enter value in list press 1, if no value to add press 2 \")\n",
    "    \n",
    "\n",
    "print(\"final list: \",list_fix)"
   ]
  },
  {
   "cell_type": "markdown",
   "id": "901a488f",
   "metadata": {},
   "source": [
    "# Task 3"
   ]
  },
  {
   "cell_type": "code",
   "execution_count": 38,
   "id": "117497ac",
   "metadata": {},
   "outputs": [
    {
     "name": "stdout",
     "output_type": "stream",
     "text": [
      "enter 5 random values 12\n",
      "enter 5 random values 21\n",
      "enter 5 random values 23\n",
      "enter 5 random values 32\n",
      "enter 5 random values 43\n",
      "enter any other value 12\n",
      "already in list this value  12\n",
      "enter any other value 43\n",
      "already in list this value  43\n",
      "enter any other value 54\n",
      "['12', '21', '23', '32', '43', '54']\n"
     ]
    }
   ],
   "source": [
    "rand_list=[]\n",
    "\n",
    "for i in range(0,5):\n",
    "    value=input(\"enter 5 random values \")\n",
    "    rand_list.append(value)\n",
    "\n",
    "chc=True\n",
    "while chc==True:\n",
    "    value=input(\"enter any other value \")\n",
    "    chc=value in rand_list\n",
    "    if chc==True:\n",
    "        print('already in list this value ', value)\n",
    "rand_list.append(value)\n",
    "print(rand_list)"
   ]
  },
  {
   "cell_type": "markdown",
   "id": "03632a29",
   "metadata": {},
   "source": [
    "# Task 4"
   ]
  },
  {
   "cell_type": "code",
   "execution_count": 60,
   "id": "53ffe7d3",
   "metadata": {},
   "outputs": [
    {
     "name": "stdout",
     "output_type": "stream",
     "text": [
      "enter 5 random values of first list 5\n",
      "enter 5 random values of first list 4\n",
      "enter 5 random values of first list 3\n",
      "enter 5 random values of first list 2\n",
      "enter 5 random values of first list 1\n",
      "enter 5 random values of second list 11\n",
      "enter 5 random values of second list 12\n",
      "enter 5 random values of second list 13\n",
      "enter 5 random values of second list 14\n",
      "enter 5 random values of second list 15\n",
      "[['5', '4', '3', '2', '1'], ['5', '4', '3', '2', '1'], ['5', '4', '3', '2', '1'], ['5', '4', '3', '2', '1'], ['5', '4', '3', '2', '1'], ['11', '12', '13', '14', '15'], ['11', '12', '13', '14', '15'], ['11', '12', '13', '14', '15'], ['11', '12', '13', '14', '15'], ['11', '12', '13', '14', '15']]\n"
     ]
    }
   ],
   "source": [
    "list1=[]\n",
    "list2=[]\n",
    "\n",
    "multiarr=[]\n",
    "for i in range(0,5):\n",
    "    value=input(\"enter 5 random values of first list \")\n",
    "    list1.append(value)\n",
    "    multiarr.append(list1)\n",
    "for i in range(0,5):\n",
    "    value=input(\"enter 5 random values of second list \")\n",
    "    list2.append(value)\n",
    "    multiarr.append(list2)\n",
    "row=len(list1)\n",
    "col=len(list2)\n",
    "\n",
    "\n",
    "\n",
    "print(multiarr)\n"
   ]
  },
  {
   "cell_type": "code",
   "execution_count": null,
   "id": "898246cd",
   "metadata": {},
   "outputs": [],
   "source": []
  },
  {
   "cell_type": "code",
   "execution_count": null,
   "id": "85049cf3",
   "metadata": {},
   "outputs": [],
   "source": []
  }
 ],
 "metadata": {
  "kernelspec": {
   "display_name": "Python 3 (ipykernel)",
   "language": "python",
   "name": "python3"
  },
  "language_info": {
   "codemirror_mode": {
    "name": "ipython",
    "version": 3
   },
   "file_extension": ".py",
   "mimetype": "text/x-python",
   "name": "python",
   "nbconvert_exporter": "python",
   "pygments_lexer": "ipython3",
   "version": "3.9.7"
  }
 },
 "nbformat": 4,
 "nbformat_minor": 5
}
