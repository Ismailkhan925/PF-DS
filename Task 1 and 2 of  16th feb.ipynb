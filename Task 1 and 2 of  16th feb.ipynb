{
 "cells": [
  {
   "cell_type": "markdown",
   "id": "96ea91aa",
   "metadata": {},
   "source": [
    "# Task 1"
   ]
  },
  {
   "cell_type": "code",
   "execution_count": 7,
   "id": "80251462",
   "metadata": {},
   "outputs": [
    {
     "name": "stdout",
     "output_type": "stream",
     "text": [
      "Plz enter total number of students in class\n",
      "Plz enter number of students in math class\n",
      "Plz enter number of students in bio class\n",
      "number of students without math and bio 2\n",
      "number of students without math and bio 10\n"
     ]
    }
   ],
   "source": [
    "print(\"Plz enter total number of students in class\")\n",
    "total_stu = input()\n",
    "print(\"Plz enter number of students in math class\")\n",
    "math_class_stu = input()\n",
    "print(\"Plz enter number of students in bio class\")\n",
    "bio_class_stu = input()\n",
    "\n",
    "stu_in_math_bio = int(bio_class_stu) + int(math_class_stu)\n",
    "stu_not_in_math_bio = int(total_stu) - int(stu_in_math_bio)\n",
    "print(\"number of students without math and bio %d\" %stu_not_in_math_bio)\n",
    "print(\"number of students without math and bio %d\" %stu_in_math_bio)"
   ]
  },
  {
   "cell_type": "markdown",
   "id": "ec6abd72",
   "metadata": {},
   "source": [
    "# Task 2"
   ]
  },
  {
   "cell_type": "code",
   "execution_count": 27,
   "id": "7f80639c",
   "metadata": {},
   "outputs": [
    {
     "name": "stdout",
     "output_type": "stream",
     "text": [
      "Sum of all numbers till prime number is 66\n"
     ]
    }
   ],
   "source": [
    "prime(11)\n",
    "def sum(num):\n",
    " sum_v=0\n",
    " for i in range(num+1):\n",
    "    sum_v = sum_v + i\n",
    " print(\"Sum of all numbers till prime number is %d\" %sum_v)\n",
    "\n",
    "\n",
    "\n",
    "def prime(num):\n",
    "    if(num == 1 or num < 1):\n",
    "        print(\"-1\")\n",
    "    elif(num == 2):\n",
    "        return sum(2)\n",
    "    else:\n",
    "        for i in range(2,num):\n",
    "            if(num%i==0):\n",
    "                print(\"-1\")\n",
    "                break\n",
    "            else:\n",
    "                return sum(num)\n",
    "                "
   ]
  },
  {
   "cell_type": "code",
   "execution_count": null,
   "id": "a366d151",
   "metadata": {},
   "outputs": [],
   "source": []
  }
 ],
 "metadata": {
  "kernelspec": {
   "display_name": "Python 3 (ipykernel)",
   "language": "python",
   "name": "python3"
  },
  "language_info": {
   "codemirror_mode": {
    "name": "ipython",
    "version": 3
   },
   "file_extension": ".py",
   "mimetype": "text/x-python",
   "name": "python",
   "nbconvert_exporter": "python",
   "pygments_lexer": "ipython3",
   "version": "3.9.7"
  }
 },
 "nbformat": 4,
 "nbformat_minor": 5
}
